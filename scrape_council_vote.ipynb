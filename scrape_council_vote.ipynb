{
 "cells": [
  {
   "cell_type": "code",
   "execution_count": 29,
   "metadata": {},
   "outputs": [
    {
     "name": "stdout",
     "output_type": "stream",
     "text": [
      "https://chicago.legistar.com/HistoryDetail.aspx?ID=15140828&GUID=8EA223C9-BA3D-41F3-A087-62B835565C43\n"
     ]
    }
   ],
   "source": [
    "import urllib.request\n",
    "from bs4 import BeautifulSoup\n",
    "import re\n",
    "import json\n",
    "\n",
    "base_url = 'https://chicago.legistar.com/'\n",
    "bill_record_url = 'https://chicago.legistar.com/LegislationDetail.aspx?ID=3481446&GUID=27CD2952-7417-45DD-82F5-02FFA9E03DA7&Options=Advanced&Search='\n",
    "\n",
    "with urllib.request.urlopen(bill_record_url) as response:\n",
    "    page = response.read()\n",
    "    \n",
    "    soup = BeautifulSoup(page, 'html.parser')\n",
    "    \n",
    "    testID = 'ctl00_ContentPlaceHolder1_gridLegislation_ctl00_ctl06_hypDetails'\n",
    "    el = soup.select('#'+testID)[0]\n",
    "    #print(el)\n",
    "    \n",
    "    script_string = el['onclick']\n",
    "    #print(script_string)\n",
    "    url_postfix = list(filter(None, re.split(\"[(', ]\",script_string)))[1]\n",
    "    url_string = base_url + url_postfix\n",
    "    \n",
    "print(url_string)\n"
   ]
  },
  {
   "cell_type": "code",
   "execution_count": 37,
   "metadata": {},
   "outputs": [
    {
     "name": "stdout",
     "output_type": "stream",
     "text": [
      "[{'name': 'Moreno, Proco Joe', 'vote': 'Yea', 'ward': 0, 'info_page': 'https://chicago.legistar.com/PersonDetail.aspx?ID=61031&GUID=5F536F64-389D-40B2-93F4-2F6F877D44E9&Search='}, {'name': 'Dowell, Pat', 'vote': 'Yea', 'ward': 1, 'info_page': 'https://chicago.legistar.com/PersonDetail.aspx?ID=60949&GUID=EECABA2B-D3DD-458C-A7DA-EEE315E4BCBD&Search='}, {'name': 'Hairston, Leslie A.', 'vote': 'Yea', 'ward': 2, 'info_page': 'https://chicago.legistar.com/PersonDetail.aspx?ID=60951&GUID=05B11B79-0F31-4541-8849-553167F02688&Search='}, {'name': 'Mitchell, Gregory I.', 'vote': 'Yea', 'ward': 3, 'info_page': 'https://chicago.legistar.com/PersonDetail.aspx?ID=152685&GUID=28859B53-E49D-4473-B3E5-D4C18E954334&Search='}, {'name': 'Beale, Anthony', 'vote': 'Yea', 'ward': 4, 'info_page': 'https://chicago.legistar.com/PersonDetail.aspx?ID=60955&GUID=970F7168-7484-438F-A713-A90F0AE710E5&Search='}, {'name': 'Thompson, Patrick D.', 'vote': 'Yea', 'ward': 5, 'info_page': 'https://chicago.legistar.com/PersonDetail.aspx?ID=152687&GUID=DA87F823-E4FC-48A0-91BD-CC8E2E3F0F3F&Search='}, {'name': 'Quinn, Marty', 'vote': 'Yea', 'ward': 6, 'info_page': 'https://chicago.legistar.com/PersonDetail.aspx?ID=64185&GUID=904E1743-1614-46E4-9102-E3B4378A1569&Search='}, {'name': 'Lopez, Raymond A.', 'vote': 'Yea', 'ward': 7, 'info_page': 'https://chicago.legistar.com/PersonDetail.aspx?ID=152688&GUID=1C1BDA7C-062F-4D46-A614-24AA0B29A3B2&Search='}, {'name': 'Moore, David H.', 'vote': 'Yea', 'ward': 8, 'info_page': 'https://chicago.legistar.com/PersonDetail.aspx?ID=152689&GUID=EE85C9FC-FBE0-47B8-80A5-FEB8C352DBC0&Search='}, {'name': \"O'Shea, Matthew J.\", 'vote': 'Yea', 'ward': 9, 'info_page': 'https://chicago.legistar.com/PersonDetail.aspx?ID=64186&GUID=0D0E96CF-4CCA-4E33-8455-82D6C28B1F93&Search='}, {'name': 'Brookins, Jr., Howard', 'vote': 'Yea', 'ward': 10, 'info_page': 'https://chicago.legistar.com/PersonDetail.aspx?ID=60967&GUID=1A93A5E0-1EFB-47B4-8291-A39A57C28CE6&Search='}, {'name': 'Zalewski, Michael R.', 'vote': 'Yea', 'ward': 11, 'info_page': 'https://chicago.legistar.com/PersonDetail.aspx?ID=60969&GUID=EB9F639B-6D73-42A7-A578-CCC28213FEA1&Search='}, {'name': 'Solis, Daniel', 'vote': 'Yea', 'ward': 12, 'info_page': 'https://chicago.legistar.com/PersonDetail.aspx?ID=60971&GUID=C62077FD-C9A8-41A2-ADB7-01CB11EEBBAB&Search='}, {'name': 'Burnett, Jr., Walter', 'vote': 'Yea', 'ward': 13, 'info_page': 'https://chicago.legistar.com/PersonDetail.aspx?ID=60973&GUID=D57906F0-FEC4-418B-AC5D-B12171AA2A6E&Search='}, {'name': 'Taliaferro, Chris', 'vote': 'Yea', 'ward': 14, 'info_page': 'https://chicago.legistar.com/PersonDetail.aspx?ID=152692&GUID=790B3F50-1BDF-4016-A344-D1A1DBF2E2E9&Search='}, {'name': 'Santiago, Milagros', 'vote': 'Yea', 'ward': 15, 'info_page': 'https://chicago.legistar.com/PersonDetail.aspx?ID=152693&GUID=310762A8-4F9A-4EEF-9A92-095BA4D52610&Search='}, {'name': 'Mell, Deborah', 'vote': 'Yea', 'ward': 16, 'info_page': 'https://chicago.legistar.com/PersonDetail.aspx?ID=119563&GUID=E7AADD96-D64D-4D5A-8766-1C25F8151880&Search='}, {'name': 'Ramirez-Rosa, Carlos', 'vote': 'Yea', 'ward': 17, 'info_page': 'https://chicago.legistar.com/PersonDetail.aspx?ID=152694&GUID=F82334CF-B232-432C-9C48-CD84974A2475&Search='}, {'name': 'Mitts, Emma', 'vote': 'Yea', 'ward': 18, 'info_page': 'https://chicago.legistar.com/PersonDetail.aspx?ID=60983&GUID=8548C5C9-027C-4D76-BF1B-01D73B8D12DE&Search='}, {'name': 'Laurino, Margaret', 'vote': 'Yea', 'ward': 19, 'info_page': 'https://chicago.legistar.com/PersonDetail.aspx?ID=60985&GUID=6D34E9B5-E7C6-48F1-AE5C-CE894C3DF7C1&Search='}, {'name': 'Napolitano, Anthony V.', 'vote': 'Yea', 'ward': 20, 'info_page': 'https://chicago.legistar.com/PersonDetail.aspx?ID=152696&GUID=6F9357D3-0141-4343-BDF6-9BEFF22815C8&Search='}, {'name': 'Smith, Michele', 'vote': 'Yea', 'ward': 21, 'info_page': 'https://chicago.legistar.com/PersonDetail.aspx?ID=64191&GUID=CFD32C06-BDDB-4A82-8492-5A93EEF99C5A&Search='}, {'name': 'Arena, John', 'vote': 'Yea', 'ward': 22, 'info_page': 'https://chicago.legistar.com/PersonDetail.aspx?ID=64193&GUID=FDE97551-F20C-4E12-B62A-D7BED405B033&Search='}, {'name': 'Pawar, Ameya', 'vote': 'Yea', 'ward': 23, 'info_page': 'https://chicago.legistar.com/PersonDetail.aspx?ID=64194&GUID=948AB336-0C7E-4F0B-91C7-F7AFDAF1FC08&Search='}, {'name': 'Moore, Joseph', 'vote': 'Yea', 'ward': 24, 'info_page': 'https://chicago.legistar.com/PersonDetail.aspx?ID=60995&GUID=FE2F5131-67D8-4FF3-8AD6-38962CDCA1EF&Search='}]\n"
     ]
    }
   ],
   "source": [
    "with urllib.request.urlopen(url_string) as response:\n",
    "    page = response.read()\n",
    "    soup = BeautifulSoup(page, 'html.parser')\n",
    "    #print(soup.prettify())\n",
    "    \n",
    "    rows = soup.select('.rgRow')\n",
    "    votes_record = []\n",
    "    ward_id = 0\n",
    "    for row in rows:\n",
    "        name = row.a.text\n",
    "        vote = row.find_all('td')[1].text\n",
    "        info_page = base_url + row.a['href']\n",
    "        votes_record.append({\"name\":name, \"vote\":vote, \"ward\":ward_id, \"info_page\":info_page})\n",
    "        \n",
    "        ward_id += 1 # these records are in order, which is convenient (can verify by checking info page)\n",
    "\n",
    "print(votes_record)\n",
    "\n"
   ]
  },
  {
   "cell_type": "code",
   "execution_count": 36,
   "metadata": {},
   "outputs": [],
   "source": [
    "# dump record of votes to a json file\n",
    "\n",
    "target_path = 'sample_council_votes.json'\n",
    "with open(target_path, 'w') as outfile:\n",
    "    json.dump(votes_record, outfile)\n",
    "    \n",
    "    \n"
   ]
  },
  {
   "cell_type": "code",
   "execution_count": null,
   "metadata": {},
   "outputs": [],
   "source": []
  }
 ],
 "metadata": {
  "kernelspec": {
   "display_name": "Python [conda env:geoenv]",
   "language": "python",
   "name": "conda-env-geoenv-py"
  },
  "language_info": {
   "codemirror_mode": {
    "name": "ipython",
    "version": 3
   },
   "file_extension": ".py",
   "mimetype": "text/x-python",
   "name": "python",
   "nbconvert_exporter": "python",
   "pygments_lexer": "ipython3",
   "version": "3.6.5"
  }
 },
 "nbformat": 4,
 "nbformat_minor": 2
}
