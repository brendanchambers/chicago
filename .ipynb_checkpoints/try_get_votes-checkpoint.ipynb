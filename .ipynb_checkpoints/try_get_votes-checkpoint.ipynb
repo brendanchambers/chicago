{
 "cells": [
  {
   "cell_type": "code",
   "execution_count": 1,
   "metadata": {},
   "outputs": [
    {
     "name": "stdout",
     "output_type": "stream",
     "text": [
      "scrape a long list of legislation form chicago city council and analyze aggregate statistics\n"
     ]
    }
   ],
   "source": [
    "import urllib.request\n",
    "from bs4 import BeautifulSoup\n",
    "import re\n",
    "import json\n",
    "\n",
    "print('scrape a long list of legislation form chicago city council and analyze aggregate statistics')"
   ]
  },
  {
   "cell_type": "code",
   "execution_count": 12,
   "metadata": {},
   "outputs": [
    {
     "name": "stdout",
     "output_type": "stream",
     "text": [
      "error handled\n",
      "error handled\n",
      "error handled\n",
      "error handled\n",
      "error handled\n",
      "error handled\n",
      "error handled\n",
      "error handled\n",
      "error handled\n",
      "error handled\n",
      "{'legislation_url': 'https://chicago.legistar.com/LegislationDetail.aspx?ID=3006392&GUID=9FCD2EA8-6D28-4A98-B10E-1362FC6C6C01&Options=Advanced&Search=', 'name': 'O2017-1950', 'category': 'Ordinance', 'action': 'Passed', 'introduction_date': '3/29/2017', 'sponsor': 'Mayor', 'description': 'Amendment of Municipal Code Title 2 by modifying Sections 2-12-010 and 2-160-065, and adding new Section 2-176-010 regarding establishment of Municipal Identification Card program'}\n"
     ]
    }
   ],
   "source": [
    "# I grabbed 10 pages of innerHTML from <tr> entries using javascript selectors.\n",
    "# parse these documents into a single HTML document\n",
    "base_url = 'https://chicago.legistar.com/';\n",
    "\n",
    "base_path = 'data/city council/legislation_handscrape/'\n",
    "prefix = \"key_legislation_rawhtml\"\n",
    "num_pages = 10\n",
    "\n",
    "for counter in range(num_pages):\n",
    "    idx = counter+1; # one-based indexing on the filenames\n",
    "    target_path = base_path + prefix + str(idx) + '.txt'\n",
    "    \n",
    "    in_file = open(target_path, 'r');\n",
    "    #print(in_file)\n",
    "    soup = BeautifulSoup(in_file,'html.parser');\n",
    "    #print(soup.prettify())\n",
    "    table_entries = soup.find_all('td')\n",
    "    \n",
    "    legislation_records = []\n",
    "    \n",
    "    table_idx = 0\n",
    "    more_entries = True\n",
    "    while more_entries:\n",
    "        try:\n",
    "            url_postfix = table_entries[table_idx].a['href']\n",
    "            detail_url = base_url + url_postfix;            \n",
    "            #print(detail_url)\n",
    "            \n",
    "            name = table_entries[table_idx].a.text\n",
    "            \n",
    "            category = table_entries[table_idx+1].text\n",
    "            action = table_entries[table_idx+2].text\n",
    "            date = table_entries[table_idx+3].text\n",
    "            sponsor = table_entries[table_idx+5].text\n",
    "            description = table_entries[table_idx+6].text\n",
    "            \n",
    "            table_idx += 7 # next row\n",
    "            \n",
    "            legislation_object = {\"legislation_url\":detail_url, \n",
    "                                 \"name\":name,\n",
    "                                 \"category\":category,\n",
    "                                 \"action\":action,\n",
    "                                 \"introduction_date\":date,\n",
    "                                 \"sponsor\":sponsor,\n",
    "                                 \"description\":description}\n",
    "            \n",
    "            legislation_records.append(legislation_object)\n",
    "            \n",
    "        except:\n",
    "            print(\"error handled\");\n",
    "            more_entries = False;\n",
    "            \n",
    "print(legislation_records)\n",
    "            \n",
    "            \n"
   ]
  },
  {
   "cell_type": "code",
   "execution_count": 10,
   "metadata": {},
   "outputs": [],
   "source": [
    "target_path = 'data/council_key_legislation_1000sample.json'\n",
    "with open(target_path, 'w') as outfile:\n",
    "    json.dump(legislation_records, outfile)"
   ]
  },
  {
   "cell_type": "code",
   "execution_count": null,
   "metadata": {},
   "outputs": [],
   "source": []
  }
 ],
 "metadata": {
  "kernelspec": {
   "display_name": "Python [conda env:geoenv]",
   "language": "python",
   "name": "conda-env-geoenv-py"
  },
  "language_info": {
   "codemirror_mode": {
    "name": "ipython",
    "version": 3
   },
   "file_extension": ".py",
   "mimetype": "text/x-python",
   "name": "python",
   "nbconvert_exporter": "python",
   "pygments_lexer": "ipython3",
   "version": "3.6.5"
  }
 },
 "nbformat": 4,
 "nbformat_minor": 2
}
